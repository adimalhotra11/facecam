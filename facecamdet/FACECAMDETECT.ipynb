{
 "cells": [
  {
   "cell_type": "code",
   "execution_count": 1,
   "metadata": {
    "scrolled": true
   },
   "outputs": [
    {
     "name": "stdout",
     "output_type": "stream",
     "text": [
      "Requirement already satisfied: opencv-contrib-python in c:\\users\\aditya\\anaconda3\\lib\\site-packages (4.2.0.32)\n",
      "Requirement already satisfied: numpy>=1.14.5 in c:\\users\\aditya\\anaconda3\\lib\\site-packages (from opencv-contrib-python) (1.16.4)\n",
      "Note: you may need to restart the kernel to use updated packages.\n"
     ]
    }
   ],
   "source": [
    "pip install opencv-contrib-python\n"
   ]
  },
  {
   "cell_type": "code",
   "execution_count": 2,
   "metadata": {},
   "outputs": [],
   "source": [
    "import cv2\n",
    "import numpy as np\n",
    "import matplotlib.pyplot as plt\n"
   ]
  },
  {
   "cell_type": "code",
   "execution_count": 3,
   "metadata": {},
   "outputs": [],
   "source": [
    "cap = cv2.VideoCapture(0)\n"
   ]
  },
  {
   "cell_type": "code",
   "execution_count": 4,
   "metadata": {},
   "outputs": [],
   "source": [
    "\n",
    "face_cascade = cv2.CascadeClassifier(r\"C:\\Users\\Aditya\\Downloads\\opencv\\haarcascade_frontalface_default.xml\")\n"
   ]
  },
  {
   "cell_type": "code",
   "execution_count": 5,
   "metadata": {},
   "outputs": [
    {
     "name": "stdout",
     "output_type": "stream",
     "text": [
      "ENTER PERSON NAME: geetika\n",
      "1\n",
      "2\n",
      "3\n",
      "4\n",
      "5\n",
      "6\n",
      "7\n",
      "8\n",
      "9\n",
      "10\n",
      "11\n",
      "12\n",
      "13\n",
      "14\n",
      "15\n",
      "16\n",
      "17\n",
      "18\n",
      "19\n",
      "20\n",
      "21\n",
      "22\n",
      "23\n",
      "24\n",
      "25\n",
      "26\n",
      "27\n",
      "28\n",
      "29\n",
      "30\n",
      "31\n",
      "32\n",
      "33\n",
      "34\n",
      "35\n",
      "36\n",
      "37\n",
      "(37, 30000)\n",
      "data saved successfully at : D:\\ml\\data\\.geetika\n"
     ]
    }
   ],
   "source": [
    "skip = 0\n",
    "face_data = []\n",
    "dataset_path = \"D:\\ml\\data\\.\"\n",
    "file_name = input(\"ENTER PERSON NAME: \")\n",
    "while True:\n",
    "    \n",
    "    ret,frame = cap.read()\n",
    "    if ret == False:\n",
    "        continue\n",
    "        \n",
    "    gray_frame = cv2.cvtColor(frame, cv2.COLOR_BGR2GRAY)\n",
    "    faces = face_cascade.detectMultiScale(frame,1.3,5)\n",
    "    \n",
    "    \n",
    "    faces = sorted(faces ,key = lambda f: f[2]*f[3])\n",
    "    \n",
    "    \n",
    "    for face in faces[-1:]: # pick largest face\n",
    "        x,y,w,h = face \n",
    "        cv2.rectangle(frame,(x,y),(x+w,y+h),(0,255,255),2)\n",
    "        offset = 10\n",
    "        face_section = frame[y-offset:y+h+offset ,x-offset:x+w+offset ]\n",
    "        face_section = cv2.resize(face_section,(100,100))\n",
    "        if skip%10==0:\n",
    "           face_data.append(face_section)\n",
    "           print(len(face_data))\n",
    "            \n",
    "    cv2.imshow(\"FRAME\",frame)   \n",
    "    cv2.imshow(\"FACE SECTION\",face_section)   \n",
    "    \n",
    "    skip+=1\n",
    "        \n",
    "        \n",
    "        \n",
    "        \n",
    "        \n",
    "    key_pressed = cv2.waitKey(1) & 0xFF\n",
    "    \n",
    "    if key_pressed == ord('q'):\n",
    "        break\n",
    "        \n",
    "face_data = np.asarray(face_data)  \n",
    "face_data = face_data.reshape((face_data.shape[0],-1))\n",
    "\n",
    "print(face_data.shape)\n",
    "np.save(dataset_path+file_name+'.npy',face_data)\n",
    "print('data saved successfully at : '+dataset_path+file_name)        \n",
    "        \n",
    "cap.release()\n",
    "cv2.destroyAllWindows()"
   ]
  },
  {
   "cell_type": "code",
   "execution_count": null,
   "metadata": {},
   "outputs": [],
   "source": [
    "\n",
    "\n",
    "\n"
   ]
  },
  {
   "cell_type": "code",
   "execution_count": null,
   "metadata": {},
   "outputs": [],
   "source": []
  }
 ],
 "metadata": {
  "kernelspec": {
   "display_name": "Python 3",
   "language": "python",
   "name": "python3"
  },
  "language_info": {
   "codemirror_mode": {
    "name": "ipython",
    "version": 3
   },
   "file_extension": ".py",
   "mimetype": "text/x-python",
   "name": "python",
   "nbconvert_exporter": "python",
   "pygments_lexer": "ipython3",
   "version": "3.7.3"
  }
 },
 "nbformat": 4,
 "nbformat_minor": 2
}
