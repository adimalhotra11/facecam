{
 "cells": [
  {
   "cell_type": "code",
   "execution_count": 1,
   "metadata": {},
   "outputs": [
    {
     "name": "stdout",
     "output_type": "stream",
     "text": [
      "Requirement already satisfied: opencv-contrib-python in c:\\users\\aditya\\anaconda3\\lib\\site-packages (4.2.0.32)\n",
      "Requirement already satisfied: numpy>=1.14.5 in c:\\users\\aditya\\anaconda3\\lib\\site-packages (from opencv-contrib-python) (1.16.4)\n",
      "Note: you may need to restart the kernel to use updated packages.\n"
     ]
    }
   ],
   "source": [
    "pip install opencv-contrib-python"
   ]
  },
  {
   "cell_type": "code",
   "execution_count": 2,
   "metadata": {},
   "outputs": [],
   "source": [
    "import cv2\n",
    "import numpy as np\n",
    "import matplotlib.pyplot as plt\n",
    "import os"
   ]
  },
  {
   "cell_type": "code",
   "execution_count": 3,
   "metadata": {},
   "outputs": [],
   "source": [
    "def distance(v1,v2): #EUCLEDIAN DISTANCE\n",
    "\treturn np.sqrt(((v1-v2)**2).sum())\n",
    "\n",
    "def knn(train,test,k=5): #IMPLEMENTING KNN ALGO!\n",
    "\tdist=[]\n",
    "\tfor i in range(train.shape[0]):\n",
    "\t\tix = train[i,:-1]\n",
    "\t\tiy = train[i,-1]\n",
    "\t\td=distance(test,ix)\n",
    "\t\tdist.append([d,iy])\n",
    "\tdk = sorted(dist,key=lambda x:x[0])[:k]\n",
    "\tlabels = np.array(dk)[:,-1]\n",
    "\n",
    "\toutput = np.unique(labels,return_counts = True)\n",
    "\tindex = np.argmax(output[1])\n",
    "\n",
    "\treturn output[0][index]"
   ]
  },
  {
   "cell_type": "code",
   "execution_count": 4,
   "metadata": {},
   "outputs": [],
   "source": [
    "cap = cv2.VideoCapture(0)\n",
    "\n",
    "face_cascade = cv2.CascadeClassifier(r\"C:\\Users\\Aditya\\Downloads\\opencv\\haarcascade_frontalface_default.xml\")\n",
    "\n",
    "skip = 0\n",
    "face_data = []\n",
    "dataset_path = 'D:/ml/data/'\n",
    "labels = []\n",
    "class_id = 0 #labels for given file\n",
    "names ={} #mapping bw id name\n",
    "for fx in os.listdir(dataset_path):\n",
    "    \n",
    "    if fx.endswith('.npy'):\n",
    "        \n",
    "        names[class_id]=fx[:-4] #mapping bw classid and name\n",
    "        data_item = np.load(dataset_path+fx)\n",
    "        face_data.append(data_item)\n",
    "        #create labels for class\n",
    "        target = class_id*np.ones((data_item.shape[0],))\n",
    "        class_id+=1\n",
    "        labels.append(target)\n",
    "        \n",
    "face_dataset = np.concatenate(face_data,axis=0)\n",
    "face_labels=  np.concatenate(labels,axis=0).reshape((-1,1))\n",
    "\n",
    "trainset = np.concatenate((face_dataset,face_labels),axis=1)\n",
    "\n",
    "#TESTING-\n",
    "\n",
    "\n",
    "    \n",
    "\n",
    "while True:\n",
    "    \n",
    "    ret,frame = cap.read()\n",
    "    if ret == False:\n",
    "        continue\n",
    "        \n",
    "    faces = face_cascade.detectMultiScale(frame,1.3,5)\n",
    "    for face in faces:\n",
    "        \n",
    "        x,y,w,h = face \n",
    "        \n",
    "        offset = 10\n",
    "        face_section = frame[y-offset:y+h+offset ,x-offset:x+w+offset ]\n",
    "        face_section = cv2.resize(face_section,(100,100))\n",
    "\n",
    "    \n",
    "        out = knn(trainset,face_section.flatten())\n",
    "        pred_names = names[int(out)]\n",
    "        cv2.putText(frame,pred_names,(x,y-10),cv2.FONT_HERSHEY_SIMPLEX,1,(255,0,0),2,cv2.LINE_AA)\n",
    "        cv2.rectangle(frame,(x,y),(x+w,y+h),(0,255,255),2)\n",
    "    cv2.imshow(\"FACES\",frame)\n",
    "    key = cv2.waitKey(1) & 0xFF \n",
    "    if key==ord('q'):\n",
    "        break\n",
    "cap.release()\n",
    "cv2.destroyAllWindows()\n",
    "\n",
    "\n",
    "\n",
    "\n",
    "\n",
    "\n"
   ]
  },
  {
   "cell_type": "code",
   "execution_count": null,
   "metadata": {},
   "outputs": [],
   "source": []
  },
  {
   "cell_type": "code",
   "execution_count": null,
   "metadata": {},
   "outputs": [],
   "source": []
  }
 ],
 "metadata": {
  "kernelspec": {
   "display_name": "Python 3",
   "language": "python",
   "name": "python3"
  },
  "language_info": {
   "codemirror_mode": {
    "name": "ipython",
    "version": 3
   },
   "file_extension": ".py",
   "mimetype": "text/x-python",
   "name": "python",
   "nbconvert_exporter": "python",
   "pygments_lexer": "ipython3",
   "version": "3.7.3"
  }
 },
 "nbformat": 4,
 "nbformat_minor": 2
}
